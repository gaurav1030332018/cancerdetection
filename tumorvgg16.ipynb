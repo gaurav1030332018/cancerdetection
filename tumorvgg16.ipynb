{
  "nbformat": 4,
  "nbformat_minor": 0,
  "metadata": {
    "colab": {
      "name": "tumorvgg16.ipynb",
      "provenance": [],
      "collapsed_sections": [],
      "authorship_tag": "ABX9TyP+1Ulm37Vfj2MpAObC+L0/",
      "include_colab_link": true
    },
    "kernelspec": {
      "name": "python3",
      "display_name": "Python 3"
    },
    "language_info": {
      "name": "python"
    },
    "accelerator": "GPU",
    "widgets": {
      "application/vnd.jupyter.widget-state+json": {
        "026cb19ca33b47aea6a16bf960ece323": {
          "model_module": "@jupyter-widgets/controls",
          "model_name": "FileUploadModel",
          "model_module_version": "1.5.0",
          "state": {
            "_view_name": "FileUploadView",
            "_counter": 3,
            "style": "IPY_MODEL_60238a8e9afb477b984bfac3089ff82d",
            "_dom_classes": [],
            "description": "Upload",
            "multiple": false,
            "_model_name": "FileUploadModel",
            "data": [
              null
            ],
            "button_style": "",
            "_view_module": "@jupyter-widgets/controls",
            "_model_module_version": "1.5.0",
            "accept": "",
            "_view_count": null,
            "disabled": false,
            "_view_module_version": "1.5.0",
            "error": "",
            "description_tooltip": null,
            "metadata": [
              {
                "name": "image(6).jpg",
                "type": "image/jpeg",
                "size": 61133,
                "lastModified": 1590317710000
              }
            ],
            "_model_module": "@jupyter-widgets/controls",
            "layout": "IPY_MODEL_4179822c7026418d86d7326eb13209f5",
            "icon": "upload"
          }
        },
        "60238a8e9afb477b984bfac3089ff82d": {
          "model_module": "@jupyter-widgets/controls",
          "model_name": "ButtonStyleModel",
          "model_module_version": "1.5.0",
          "state": {
            "_view_name": "StyleView",
            "_model_name": "ButtonStyleModel",
            "_view_module": "@jupyter-widgets/base",
            "_model_module_version": "1.5.0",
            "_view_count": null,
            "button_color": null,
            "font_weight": "",
            "_view_module_version": "1.2.0",
            "_model_module": "@jupyter-widgets/controls"
          }
        },
        "4179822c7026418d86d7326eb13209f5": {
          "model_module": "@jupyter-widgets/base",
          "model_name": "LayoutModel",
          "model_module_version": "1.2.0",
          "state": {
            "_view_name": "LayoutView",
            "grid_template_rows": null,
            "right": null,
            "justify_content": null,
            "_view_module": "@jupyter-widgets/base",
            "overflow": null,
            "_model_module_version": "1.2.0",
            "_view_count": null,
            "flex_flow": null,
            "width": null,
            "min_width": null,
            "border": null,
            "align_items": null,
            "bottom": null,
            "_model_module": "@jupyter-widgets/base",
            "top": null,
            "grid_column": null,
            "overflow_y": null,
            "overflow_x": null,
            "grid_auto_flow": null,
            "grid_area": null,
            "grid_template_columns": null,
            "flex": null,
            "_model_name": "LayoutModel",
            "justify_items": null,
            "grid_row": null,
            "max_height": null,
            "align_content": null,
            "visibility": null,
            "align_self": null,
            "height": null,
            "min_height": null,
            "padding": null,
            "grid_auto_rows": null,
            "grid_gap": null,
            "max_width": null,
            "order": null,
            "_view_module_version": "1.2.0",
            "grid_template_areas": null,
            "object_position": null,
            "object_fit": null,
            "grid_auto_columns": null,
            "margin": null,
            "display": null,
            "left": null
          }
        },
        "3c2bbaec4f264ea683d1a95771649cdc": {
          "model_module": "@jupyter-widgets/controls",
          "model_name": "VBoxModel",
          "model_module_version": "1.5.0",
          "state": {
            "_view_name": "VBoxView",
            "_dom_classes": [],
            "_model_name": "VBoxModel",
            "_view_module": "@jupyter-widgets/controls",
            "_model_module_version": "1.5.0",
            "_view_count": null,
            "_view_module_version": "1.5.0",
            "box_style": "",
            "layout": "IPY_MODEL_10023ef5a74b4c5c8eb23fe75fbc8ba2",
            "_model_module": "@jupyter-widgets/controls",
            "children": [
              "IPY_MODEL_8711b8d2ef9d4ebfad8188615042bc11",
              "IPY_MODEL_10265bbdee8a4be29c1445667495cb92"
            ]
          }
        },
        "10023ef5a74b4c5c8eb23fe75fbc8ba2": {
          "model_module": "@jupyter-widgets/base",
          "model_name": "LayoutModel",
          "model_module_version": "1.2.0",
          "state": {
            "_view_name": "LayoutView",
            "grid_template_rows": null,
            "right": null,
            "justify_content": null,
            "_view_module": "@jupyter-widgets/base",
            "overflow": null,
            "_model_module_version": "1.2.0",
            "_view_count": null,
            "flex_flow": null,
            "width": null,
            "min_width": null,
            "border": null,
            "align_items": null,
            "bottom": null,
            "_model_module": "@jupyter-widgets/base",
            "top": null,
            "grid_column": null,
            "overflow_y": null,
            "overflow_x": null,
            "grid_auto_flow": null,
            "grid_area": null,
            "grid_template_columns": null,
            "flex": null,
            "_model_name": "LayoutModel",
            "justify_items": null,
            "grid_row": null,
            "max_height": null,
            "align_content": null,
            "visibility": null,
            "align_self": null,
            "height": null,
            "min_height": null,
            "padding": null,
            "grid_auto_rows": null,
            "grid_gap": null,
            "max_width": null,
            "order": null,
            "_view_module_version": "1.2.0",
            "grid_template_areas": null,
            "object_position": null,
            "object_fit": null,
            "grid_auto_columns": null,
            "margin": null,
            "display": null,
            "left": null
          }
        },
        "8711b8d2ef9d4ebfad8188615042bc11": {
          "model_module": "@jupyter-widgets/controls",
          "model_name": "ButtonModel",
          "model_module_version": "1.5.0",
          "state": {
            "_view_name": "ButtonView",
            "style": "IPY_MODEL_f03ad22de1dd43b4bd78d3d32fdd8318",
            "_dom_classes": [],
            "description": "Predict",
            "_model_name": "ButtonModel",
            "button_style": "",
            "_view_module": "@jupyter-widgets/controls",
            "_model_module_version": "1.5.0",
            "tooltip": "",
            "_view_count": null,
            "disabled": false,
            "_view_module_version": "1.5.0",
            "layout": "IPY_MODEL_bafb4f7595474da8ab0914798393b451",
            "_model_module": "@jupyter-widgets/controls",
            "icon": ""
          }
        },
        "10265bbdee8a4be29c1445667495cb92": {
          "model_module": "@jupyter-widgets/output",
          "model_name": "OutputModel",
          "model_module_version": "1.0.0",
          "state": {
            "_view_name": "OutputView",
            "msg_id": "",
            "_dom_classes": [],
            "_model_name": "OutputModel",
            "outputs": [
              {
                "output_type": "stream",
                "name": "stdout",
                "text": [
                  "No Image Uploaded/Invalid Image File\n"
                ]
              }
            ],
            "_view_module": "@jupyter-widgets/output",
            "_model_module_version": "1.0.0",
            "_view_count": null,
            "_view_module_version": "1.0.0",
            "layout": "IPY_MODEL_3517970fee27428c980259610394b7eb",
            "_model_module": "@jupyter-widgets/output"
          }
        },
        "f03ad22de1dd43b4bd78d3d32fdd8318": {
          "model_module": "@jupyter-widgets/controls",
          "model_name": "ButtonStyleModel",
          "model_module_version": "1.5.0",
          "state": {
            "_view_name": "StyleView",
            "_model_name": "ButtonStyleModel",
            "_view_module": "@jupyter-widgets/base",
            "_model_module_version": "1.5.0",
            "_view_count": null,
            "button_color": null,
            "font_weight": "",
            "_view_module_version": "1.2.0",
            "_model_module": "@jupyter-widgets/controls"
          }
        },
        "bafb4f7595474da8ab0914798393b451": {
          "model_module": "@jupyter-widgets/base",
          "model_name": "LayoutModel",
          "model_module_version": "1.2.0",
          "state": {
            "_view_name": "LayoutView",
            "grid_template_rows": null,
            "right": null,
            "justify_content": null,
            "_view_module": "@jupyter-widgets/base",
            "overflow": null,
            "_model_module_version": "1.2.0",
            "_view_count": null,
            "flex_flow": null,
            "width": null,
            "min_width": null,
            "border": null,
            "align_items": null,
            "bottom": null,
            "_model_module": "@jupyter-widgets/base",
            "top": null,
            "grid_column": null,
            "overflow_y": null,
            "overflow_x": null,
            "grid_auto_flow": null,
            "grid_area": null,
            "grid_template_columns": null,
            "flex": null,
            "_model_name": "LayoutModel",
            "justify_items": null,
            "grid_row": null,
            "max_height": null,
            "align_content": null,
            "visibility": null,
            "align_self": null,
            "height": null,
            "min_height": null,
            "padding": null,
            "grid_auto_rows": null,
            "grid_gap": null,
            "max_width": null,
            "order": null,
            "_view_module_version": "1.2.0",
            "grid_template_areas": null,
            "object_position": null,
            "object_fit": null,
            "grid_auto_columns": null,
            "margin": null,
            "display": null,
            "left": null
          }
        },
        "3517970fee27428c980259610394b7eb": {
          "model_module": "@jupyter-widgets/base",
          "model_name": "LayoutModel",
          "model_module_version": "1.2.0",
          "state": {
            "_view_name": "LayoutView",
            "grid_template_rows": null,
            "right": null,
            "justify_content": null,
            "_view_module": "@jupyter-widgets/base",
            "overflow": null,
            "_model_module_version": "1.2.0",
            "_view_count": null,
            "flex_flow": null,
            "width": null,
            "min_width": null,
            "border": null,
            "align_items": null,
            "bottom": null,
            "_model_module": "@jupyter-widgets/base",
            "top": null,
            "grid_column": null,
            "overflow_y": null,
            "overflow_x": null,
            "grid_auto_flow": null,
            "grid_area": null,
            "grid_template_columns": null,
            "flex": null,
            "_model_name": "LayoutModel",
            "justify_items": null,
            "grid_row": null,
            "max_height": null,
            "align_content": null,
            "visibility": null,
            "align_self": null,
            "height": null,
            "min_height": null,
            "padding": null,
            "grid_auto_rows": null,
            "grid_gap": null,
            "max_width": null,
            "order": null,
            "_view_module_version": "1.2.0",
            "grid_template_areas": null,
            "object_position": null,
            "object_fit": null,
            "grid_auto_columns": null,
            "margin": null,
            "display": null,
            "left": null
          }
        }
      }
    }
  },
  "cells": [
    {
      "cell_type": "markdown",
      "metadata": {
        "id": "view-in-github",
        "colab_type": "text"
      },
      "source": [
        "<a href=\"https://colab.research.google.com/github/gaurav1030332018/cancerdetection/blob/main/tumorvgg16.ipynb\" target=\"_parent\"><img src=\"https://colab.research.google.com/assets/colab-badge.svg\" alt=\"Open In Colab\"/></a>"
      ]
    },
    {
      "cell_type": "code",
      "execution_count": 1,
      "metadata": {
        "id": "hc9eS8f7VopA"
      },
      "outputs": [],
      "source": [
        "import tensorflow as tf\n",
        "from keras.layers import Input, Lambda, Dense, Flatten\n",
        "from keras.models import Model\n",
        "from keras.applications.vgg16 import VGG16\n",
        "from keras.applications.vgg16 import preprocess_input\n",
        "from keras.preprocessing import image\n",
        "from keras.preprocessing.image import ImageDataGenerator\n",
        "from keras.models import Sequential\n",
        "import numpy as np\n",
        "from glob import glob\n",
        "import matplotlib.pyplot as plt\n",
        "from tqdm import tqdm\n",
        "from sklearn.utils import shuffle\n",
        "from sklearn.model_selection import train_test_split\n",
        "import warnings\n",
        "warnings.filterwarnings(\"ignore\", category=FutureWarning)\n",
        "from tensorflow.keras.callbacks import EarlyStopping, ReduceLROnPlateau, TensorBoard, ModelCheckpoint\n",
        "from sklearn.metrics import classification_report,confusion_matrix"
      ]
    },
    {
      "cell_type": "code",
      "source": [
        "import os\n",
        "import cv2"
      ],
      "metadata": {
        "id": "JvVmqZSidYZe"
      },
      "execution_count": 2,
      "outputs": []
    },
    {
      "cell_type": "code",
      "source": [
        "IMAGE_SIZE = [224, 224]\n"
      ],
      "metadata": {
        "id": "bFb5GrHiYCt2"
      },
      "execution_count": 3,
      "outputs": []
    },
    {
      "cell_type": "code",
      "source": [
        "from google.colab import drive\n",
        "drive.mount('/content/drive')"
      ],
      "metadata": {
        "colab": {
          "base_uri": "https://localhost:8080/"
        },
        "id": "7QRtBph4b7fM",
        "outputId": "9fb69bbe-e30d-444f-a66a-2d40f0fdcb28"
      },
      "execution_count": 4,
      "outputs": [
        {
          "output_type": "stream",
          "name": "stdout",
          "text": [
            "Mounted at /content/drive\n"
          ]
        }
      ]
    },
    {
      "cell_type": "code",
      "source": [
        "labels = ['glioma_tumor','no_tumor','meningioma_tumor','pituitary_tumor']"
      ],
      "metadata": {
        "id": "uWWZwx-kMCKu"
      },
      "execution_count": 5,
      "outputs": []
    },
    {
      "cell_type": "code",
      "source": [
        "X_train = []\n",
        "y_train = []\n",
        "image_size = 224\n",
        "for i in labels:\n",
        "    folderPath = os.path.join('/content/drive/MyDrive/kaggle dataset/Training',i)\n",
        "    for j in tqdm(os.listdir(folderPath)):\n",
        "    #  print(j)\n",
        "      try:\n",
        "        img = cv2.imread(os.path.join(folderPath,j))\n",
        "        img = cv2.resize(img,(image_size, image_size))\n",
        "        X_train.append(img)\n",
        "        y_train.append(i)\n",
        "      except Exception as e:\n",
        "        pass\n",
        "\n",
        "        \n",
        "for i in labels:\n",
        "    folderPath = os.path.join('/content/drive/MyDrive/kaggle dataset/Testing',i)\n",
        "    for j in tqdm(os.listdir(folderPath)):\n",
        "        img = cv2.imread(os.path.join(folderPath,j))\n",
        "        img = cv2.resize(img,(image_size,image_size))\n",
        "        X_train.append(img)\n",
        "        y_train.append(i)\n",
        "#X_train.shape\n",
        "X_train = np.array(X_train)\n",
        "y_train = np.array(y_train)"
      ],
      "metadata": {
        "colab": {
          "base_uri": "https://localhost:8080/"
        },
        "id": "pL-RG402MGWd",
        "outputId": "a24d9763-a113-4575-8750-0ceb7dc5e2f9"
      },
      "execution_count": 6,
      "outputs": [
        {
          "output_type": "stream",
          "name": "stderr",
          "text": [
            "100%|██████████| 826/826 [00:15<00:00, 53.67it/s] \n",
            "100%|██████████| 395/395 [00:06<00:00, 64.27it/s] \n",
            "100%|██████████| 822/822 [00:18<00:00, 43.47it/s] \n",
            "100%|██████████| 827/827 [00:15<00:00, 54.61it/s] \n",
            "100%|██████████| 100/100 [00:02<00:00, 37.09it/s]\n",
            "100%|██████████| 105/105 [00:01<00:00, 79.04it/s]\n",
            "100%|██████████| 115/115 [00:01<00:00, 74.47it/s] \n",
            "100%|██████████| 74/74 [00:13<00:00,  5.59it/s]\n"
          ]
        }
      ]
    },
    {
      "cell_type": "code",
      "source": [
        "X_train, y_train = shuffle(X_train,y_train, random_state=101)\n",
        "X_train.shape"
      ],
      "metadata": {
        "colab": {
          "base_uri": "https://localhost:8080/"
        },
        "id": "x9_ryHJ_Miru",
        "outputId": "90292f6d-c01f-4fbc-ed88-ef57e3bebe01"
      },
      "execution_count": 8,
      "outputs": [
        {
          "output_type": "execute_result",
          "data": {
            "text/plain": [
              "(3263, 224, 224, 3)"
            ]
          },
          "metadata": {},
          "execution_count": 8
        }
      ]
    },
    {
      "cell_type": "code",
      "source": [
        "X_train,X_test,y_train,y_test = train_test_split(X_train,y_train, test_size=0.1,random_state=101)"
      ],
      "metadata": {
        "id": "ck075nt8Nlx2"
      },
      "execution_count": 9,
      "outputs": []
    },
    {
      "cell_type": "code",
      "source": [
        "y_train_new = []\n",
        "for i in y_train:\n",
        "    y_train_new.append(labels.index(i))\n",
        "y_train = y_train_new\n",
        "y_train = tf.keras.utils.to_categorical(y_train)\n",
        "\n",
        "\n",
        "y_test_new = []\n",
        "for i in y_test:\n",
        "    y_test_new.append(labels.index(i))\n",
        "y_test = y_test_new\n",
        "y_test = tf.keras.utils.to_categorical(y_test)"
      ],
      "metadata": {
        "id": "6IT1gHWiNcOM"
      },
      "execution_count": 10,
      "outputs": []
    },
    {
      "cell_type": "code",
      "source": [
        "vgg = VGG16(input_shape=IMAGE_SIZE + [3], weights='imagenet', include_top=False)\n",
        "model = vgg.output\n",
        "model = tf.keras.layers.GlobalAveragePooling2D()(model)\n",
        "model = tf.keras.layers.Dropout(rate=0.5)(model)\n",
        "model = tf.keras.layers.Dense(4,activation='softmax')(model)\n",
        "model = tf.keras.models.Model(inputs=vgg.input, outputs = model)\n",
        "model.summary()"
      ],
      "metadata": {
        "id": "1hNCnonie_5m",
        "colab": {
          "base_uri": "https://localhost:8080/"
        },
        "outputId": "26c506c9-dca4-4582-e272-581c489f794d"
      },
      "execution_count": 11,
      "outputs": [
        {
          "output_type": "stream",
          "name": "stdout",
          "text": [
            "Downloading data from https://storage.googleapis.com/tensorflow/keras-applications/vgg16/vgg16_weights_tf_dim_ordering_tf_kernels_notop.h5\n",
            "58892288/58889256 [==============================] - 0s 0us/step\n",
            "58900480/58889256 [==============================] - 0s 0us/step\n",
            "Model: \"model\"\n",
            "_________________________________________________________________\n",
            " Layer (type)                Output Shape              Param #   \n",
            "=================================================================\n",
            " input_1 (InputLayer)        [(None, 224, 224, 3)]     0         \n",
            "                                                                 \n",
            " block1_conv1 (Conv2D)       (None, 224, 224, 64)      1792      \n",
            "                                                                 \n",
            " block1_conv2 (Conv2D)       (None, 224, 224, 64)      36928     \n",
            "                                                                 \n",
            " block1_pool (MaxPooling2D)  (None, 112, 112, 64)      0         \n",
            "                                                                 \n",
            " block2_conv1 (Conv2D)       (None, 112, 112, 128)     73856     \n",
            "                                                                 \n",
            " block2_conv2 (Conv2D)       (None, 112, 112, 128)     147584    \n",
            "                                                                 \n",
            " block2_pool (MaxPooling2D)  (None, 56, 56, 128)       0         \n",
            "                                                                 \n",
            " block3_conv1 (Conv2D)       (None, 56, 56, 256)       295168    \n",
            "                                                                 \n",
            " block3_conv2 (Conv2D)       (None, 56, 56, 256)       590080    \n",
            "                                                                 \n",
            " block3_conv3 (Conv2D)       (None, 56, 56, 256)       590080    \n",
            "                                                                 \n",
            " block3_pool (MaxPooling2D)  (None, 28, 28, 256)       0         \n",
            "                                                                 \n",
            " block4_conv1 (Conv2D)       (None, 28, 28, 512)       1180160   \n",
            "                                                                 \n",
            " block4_conv2 (Conv2D)       (None, 28, 28, 512)       2359808   \n",
            "                                                                 \n",
            " block4_conv3 (Conv2D)       (None, 28, 28, 512)       2359808   \n",
            "                                                                 \n",
            " block4_pool (MaxPooling2D)  (None, 14, 14, 512)       0         \n",
            "                                                                 \n",
            " block5_conv1 (Conv2D)       (None, 14, 14, 512)       2359808   \n",
            "                                                                 \n",
            " block5_conv2 (Conv2D)       (None, 14, 14, 512)       2359808   \n",
            "                                                                 \n",
            " block5_conv3 (Conv2D)       (None, 14, 14, 512)       2359808   \n",
            "                                                                 \n",
            " block5_pool (MaxPooling2D)  (None, 7, 7, 512)         0         \n",
            "                                                                 \n",
            " global_average_pooling2d (G  (None, 512)              0         \n",
            " lobalAveragePooling2D)                                          \n",
            "                                                                 \n",
            " dropout (Dropout)           (None, 512)               0         \n",
            "                                                                 \n",
            " dense (Dense)               (None, 4)                 2052      \n",
            "                                                                 \n",
            "=================================================================\n",
            "Total params: 14,716,740\n",
            "Trainable params: 14,716,740\n",
            "Non-trainable params: 0\n",
            "_________________________________________________________________\n"
          ]
        }
      ]
    },
    {
      "cell_type": "code",
      "source": [
        "model.compile(loss='categorical_crossentropy',optimizer = 'Adam', metrics= ['accuracy'])"
      ],
      "metadata": {
        "id": "dmzJaVV6OXuf"
      },
      "execution_count": 12,
      "outputs": []
    },
    {
      "cell_type": "code",
      "source": [
        "tensorboard = TensorBoard(log_dir = 'logs')\n",
        "checkpoint = ModelCheckpoint(\"vgg.h5\",monitor=\"val_accuracy\",save_best_only=True,mode=\"auto\",verbose=1)#it will save best model only\n",
        "reduce_lr = ReduceLROnPlateau(monitor = 'val_accuracy', factor = 0.3, patience = 2, min_delta = 0.001,\n",
        "                              mode='auto',verbose=1)"
      ],
      "metadata": {
        "id": "LzSSSo5AOapU"
      },
      "execution_count": 13,
      "outputs": []
    },
    {
      "cell_type": "code",
      "source": [
        "history = model.fit(X_train,y_train,validation_split=0.1, epochs =30, verbose=1, batch_size=16,\n",
        "                   callbacks=[tensorboard,checkpoint,reduce_lr])"
      ],
      "metadata": {
        "colab": {
          "base_uri": "https://localhost:8080/"
        },
        "id": "zdZGIBPNOuI9",
        "outputId": "585521a4-c904-4d01-b489-8e930d74ea17"
      },
      "execution_count": 14,
      "outputs": [
        {
          "output_type": "stream",
          "name": "stdout",
          "text": [
            "Epoch 1/30\n",
            "166/166 [==============================] - ETA: 0s - loss: 1.8704 - accuracy: 0.2922\n",
            "Epoch 00001: val_accuracy improved from -inf to 0.31633, saving model to vgg.h5\n",
            "166/166 [==============================] - 95s 459ms/step - loss: 1.8704 - accuracy: 0.2922 - val_loss: 1.5509 - val_accuracy: 0.3163 - lr: 0.0010\n",
            "Epoch 2/30\n",
            "166/166 [==============================] - ETA: 0s - loss: 1.3335 - accuracy: 0.3304\n",
            "Epoch 00002: val_accuracy improved from 0.31633 to 0.32993, saving model to vgg.h5\n",
            "166/166 [==============================] - 71s 426ms/step - loss: 1.3335 - accuracy: 0.3304 - val_loss: 1.2855 - val_accuracy: 0.3299 - lr: 0.0010\n",
            "Epoch 3/30\n",
            "166/166 [==============================] - ETA: 0s - loss: 1.2200 - accuracy: 0.4235\n",
            "Epoch 00003: val_accuracy improved from 0.32993 to 0.52041, saving model to vgg.h5\n",
            "166/166 [==============================] - 70s 425ms/step - loss: 1.2200 - accuracy: 0.4235 - val_loss: 1.1454 - val_accuracy: 0.5204 - lr: 0.0010\n",
            "Epoch 4/30\n",
            "166/166 [==============================] - ETA: 0s - loss: 1.2481 - accuracy: 0.4145\n",
            "Epoch 00004: val_accuracy did not improve from 0.52041\n",
            "166/166 [==============================] - 70s 423ms/step - loss: 1.2481 - accuracy: 0.4145 - val_loss: 2.2845 - val_accuracy: 0.2755 - lr: 0.0010\n",
            "Epoch 5/30\n",
            "166/166 [==============================] - ETA: 0s - loss: 1.1955 - accuracy: 0.4364\n",
            "Epoch 00005: val_accuracy improved from 0.52041 to 0.55102, saving model to vgg.h5\n",
            "166/166 [==============================] - 71s 426ms/step - loss: 1.1955 - accuracy: 0.4364 - val_loss: 1.0694 - val_accuracy: 0.5510 - lr: 0.0010\n",
            "Epoch 6/30\n",
            "166/166 [==============================] - ETA: 0s - loss: 1.1401 - accuracy: 0.4822\n",
            "Epoch 00006: val_accuracy improved from 0.55102 to 0.58844, saving model to vgg.h5\n",
            "166/166 [==============================] - 71s 426ms/step - loss: 1.1401 - accuracy: 0.4822 - val_loss: 1.1018 - val_accuracy: 0.5884 - lr: 0.0010\n",
            "Epoch 7/30\n",
            "166/166 [==============================] - ETA: 0s - loss: 1.1073 - accuracy: 0.4780\n",
            "Epoch 00007: val_accuracy did not improve from 0.58844\n",
            "166/166 [==============================] - 70s 422ms/step - loss: 1.1073 - accuracy: 0.4780 - val_loss: 1.0419 - val_accuracy: 0.5646 - lr: 0.0010\n",
            "Epoch 8/30\n",
            "166/166 [==============================] - ETA: 0s - loss: 1.0328 - accuracy: 0.5481\n",
            "Epoch 00008: val_accuracy improved from 0.58844 to 0.69388, saving model to vgg.h5\n",
            "166/166 [==============================] - 70s 424ms/step - loss: 1.0328 - accuracy: 0.5481 - val_loss: 0.8041 - val_accuracy: 0.6939 - lr: 0.0010\n",
            "Epoch 9/30\n",
            "166/166 [==============================] - ETA: 0s - loss: 0.9108 - accuracy: 0.6234\n",
            "Epoch 00009: val_accuracy did not improve from 0.69388\n",
            "166/166 [==============================] - 70s 421ms/step - loss: 0.9108 - accuracy: 0.6234 - val_loss: 0.9334 - val_accuracy: 0.6327 - lr: 0.0010\n",
            "Epoch 10/30\n",
            "166/166 [==============================] - ETA: 0s - loss: 0.8278 - accuracy: 0.6696\n",
            "Epoch 00010: val_accuracy improved from 0.69388 to 0.69728, saving model to vgg.h5\n",
            "166/166 [==============================] - 71s 425ms/step - loss: 0.8278 - accuracy: 0.6696 - val_loss: 0.7370 - val_accuracy: 0.6973 - lr: 0.0010\n",
            "Epoch 11/30\n",
            "166/166 [==============================] - ETA: 0s - loss: 0.7256 - accuracy: 0.7127\n",
            "Epoch 00011: val_accuracy improved from 0.69728 to 0.79592, saving model to vgg.h5\n",
            "166/166 [==============================] - 70s 424ms/step - loss: 0.7256 - accuracy: 0.7127 - val_loss: 0.5283 - val_accuracy: 0.7959 - lr: 0.0010\n",
            "Epoch 12/30\n",
            "166/166 [==============================] - ETA: 0s - loss: 0.6690 - accuracy: 0.7468\n",
            "Epoch 00012: val_accuracy improved from 0.79592 to 0.82993, saving model to vgg.h5\n",
            "166/166 [==============================] - 70s 424ms/step - loss: 0.6690 - accuracy: 0.7468 - val_loss: 0.5252 - val_accuracy: 0.8299 - lr: 0.0010\n",
            "Epoch 13/30\n",
            "166/166 [==============================] - ETA: 0s - loss: 0.6231 - accuracy: 0.7532\n",
            "Epoch 00013: val_accuracy did not improve from 0.82993\n",
            "166/166 [==============================] - 70s 422ms/step - loss: 0.6231 - accuracy: 0.7532 - val_loss: 0.5231 - val_accuracy: 0.8061 - lr: 0.0010\n",
            "Epoch 14/30\n",
            "166/166 [==============================] - ETA: 0s - loss: 0.5828 - accuracy: 0.7725\n",
            "Epoch 00014: val_accuracy did not improve from 0.82993\n",
            "\n",
            "Epoch 00014: ReduceLROnPlateau reducing learning rate to 0.0003000000142492354.\n",
            "166/166 [==============================] - 70s 422ms/step - loss: 0.5828 - accuracy: 0.7725 - val_loss: 0.5486 - val_accuracy: 0.7789 - lr: 0.0010\n",
            "Epoch 15/30\n",
            "166/166 [==============================] - ETA: 0s - loss: 0.4944 - accuracy: 0.7983\n",
            "Epoch 00015: val_accuracy improved from 0.82993 to 0.84014, saving model to vgg.h5\n",
            "166/166 [==============================] - 70s 424ms/step - loss: 0.4944 - accuracy: 0.7983 - val_loss: 0.4111 - val_accuracy: 0.8401 - lr: 3.0000e-04\n",
            "Epoch 16/30\n",
            "166/166 [==============================] - ETA: 0s - loss: 0.4463 - accuracy: 0.8206\n",
            "Epoch 00016: val_accuracy improved from 0.84014 to 0.84354, saving model to vgg.h5\n",
            "166/166 [==============================] - 70s 424ms/step - loss: 0.4463 - accuracy: 0.8206 - val_loss: 0.4488 - val_accuracy: 0.8435 - lr: 3.0000e-04\n",
            "Epoch 17/30\n",
            "166/166 [==============================] - ETA: 0s - loss: 0.4191 - accuracy: 0.8365\n",
            "Epoch 00017: val_accuracy improved from 0.84354 to 0.86054, saving model to vgg.h5\n",
            "166/166 [==============================] - 70s 424ms/step - loss: 0.4191 - accuracy: 0.8365 - val_loss: 0.4002 - val_accuracy: 0.8605 - lr: 3.0000e-04\n",
            "Epoch 18/30\n",
            "166/166 [==============================] - ETA: 0s - loss: 0.3825 - accuracy: 0.8452\n",
            "Epoch 00018: val_accuracy did not improve from 0.86054\n",
            "166/166 [==============================] - 70s 423ms/step - loss: 0.3825 - accuracy: 0.8452 - val_loss: 0.5084 - val_accuracy: 0.8367 - lr: 3.0000e-04\n",
            "Epoch 19/30\n",
            "166/166 [==============================] - ETA: 0s - loss: 0.3606 - accuracy: 0.8550\n",
            "Epoch 00019: val_accuracy did not improve from 0.86054\n",
            "\n",
            "Epoch 00019: ReduceLROnPlateau reducing learning rate to 9.000000427477062e-05.\n",
            "166/166 [==============================] - 70s 423ms/step - loss: 0.3606 - accuracy: 0.8550 - val_loss: 0.4200 - val_accuracy: 0.8503 - lr: 3.0000e-04\n",
            "Epoch 20/30\n",
            "166/166 [==============================] - ETA: 0s - loss: 0.3014 - accuracy: 0.8804\n",
            "Epoch 00020: val_accuracy improved from 0.86054 to 0.87075, saving model to vgg.h5\n",
            "166/166 [==============================] - 71s 425ms/step - loss: 0.3014 - accuracy: 0.8804 - val_loss: 0.4138 - val_accuracy: 0.8707 - lr: 9.0000e-05\n",
            "Epoch 21/30\n",
            "166/166 [==============================] - ETA: 0s - loss: 0.2793 - accuracy: 0.8925\n",
            "Epoch 00021: val_accuracy improved from 0.87075 to 0.87755, saving model to vgg.h5\n",
            "166/166 [==============================] - 71s 426ms/step - loss: 0.2793 - accuracy: 0.8925 - val_loss: 0.3916 - val_accuracy: 0.8776 - lr: 9.0000e-05\n",
            "Epoch 22/30\n",
            "166/166 [==============================] - ETA: 0s - loss: 0.2593 - accuracy: 0.8978\n",
            "Epoch 00022: val_accuracy did not improve from 0.87755\n",
            "166/166 [==============================] - 70s 422ms/step - loss: 0.2593 - accuracy: 0.8978 - val_loss: 0.3881 - val_accuracy: 0.8707 - lr: 9.0000e-05\n",
            "Epoch 23/30\n",
            "166/166 [==============================] - ETA: 0s - loss: 0.2454 - accuracy: 0.9111\n",
            "Epoch 00023: val_accuracy did not improve from 0.87755\n",
            "\n",
            "Epoch 00023: ReduceLROnPlateau reducing learning rate to 2.700000040931627e-05.\n",
            "166/166 [==============================] - 70s 422ms/step - loss: 0.2454 - accuracy: 0.9111 - val_loss: 0.4004 - val_accuracy: 0.8741 - lr: 9.0000e-05\n",
            "Epoch 24/30\n",
            "166/166 [==============================] - ETA: 0s - loss: 0.2222 - accuracy: 0.9164\n",
            "Epoch 00024: val_accuracy improved from 0.87755 to 0.88776, saving model to vgg.h5\n",
            "166/166 [==============================] - 71s 426ms/step - loss: 0.2222 - accuracy: 0.9164 - val_loss: 0.4016 - val_accuracy: 0.8878 - lr: 2.7000e-05\n",
            "Epoch 25/30\n",
            "166/166 [==============================] - ETA: 0s - loss: 0.2104 - accuracy: 0.9224\n",
            "Epoch 00025: val_accuracy did not improve from 0.88776\n",
            "166/166 [==============================] - 70s 424ms/step - loss: 0.2104 - accuracy: 0.9224 - val_loss: 0.4182 - val_accuracy: 0.8844 - lr: 2.7000e-05\n",
            "Epoch 26/30\n",
            "166/166 [==============================] - ETA: 0s - loss: 0.2118 - accuracy: 0.9160\n",
            "Epoch 00026: val_accuracy did not improve from 0.88776\n",
            "\n",
            "Epoch 00026: ReduceLROnPlateau reducing learning rate to 8.100000013655517e-06.\n",
            "166/166 [==============================] - 70s 423ms/step - loss: 0.2118 - accuracy: 0.9160 - val_loss: 0.4268 - val_accuracy: 0.8810 - lr: 2.7000e-05\n",
            "Epoch 27/30\n",
            "166/166 [==============================] - ETA: 0s - loss: 0.1942 - accuracy: 0.9273\n",
            "Epoch 00027: val_accuracy did not improve from 0.88776\n",
            "166/166 [==============================] - 70s 423ms/step - loss: 0.1942 - accuracy: 0.9273 - val_loss: 0.4212 - val_accuracy: 0.8844 - lr: 8.1000e-06\n",
            "Epoch 28/30\n",
            "166/166 [==============================] - ETA: 0s - loss: 0.1930 - accuracy: 0.9258\n",
            "Epoch 00028: val_accuracy did not improve from 0.88776\n",
            "\n",
            "Epoch 00028: ReduceLROnPlateau reducing learning rate to 2.429999949526973e-06.\n",
            "166/166 [==============================] - 70s 422ms/step - loss: 0.1930 - accuracy: 0.9258 - val_loss: 0.4263 - val_accuracy: 0.8844 - lr: 8.1000e-06\n",
            "Epoch 29/30\n",
            "166/166 [==============================] - ETA: 0s - loss: 0.1866 - accuracy: 0.9292\n",
            "Epoch 00029: val_accuracy did not improve from 0.88776\n",
            "166/166 [==============================] - 70s 424ms/step - loss: 0.1866 - accuracy: 0.9292 - val_loss: 0.4274 - val_accuracy: 0.8878 - lr: 2.4300e-06\n",
            "Epoch 30/30\n",
            "166/166 [==============================] - ETA: 0s - loss: 0.1898 - accuracy: 0.9258\n",
            "Epoch 00030: val_accuracy did not improve from 0.88776\n",
            "\n",
            "Epoch 00030: ReduceLROnPlateau reducing learning rate to 7.289999985005124e-07.\n",
            "166/166 [==============================] - 70s 424ms/step - loss: 0.1898 - accuracy: 0.9258 - val_loss: 0.4284 - val_accuracy: 0.8878 - lr: 2.4300e-06\n"
          ]
        }
      ]
    },
    {
      "cell_type": "code",
      "source": [
        "pred = model.predict(X_test)\n",
        "pred = np.argmax(pred,axis=1) #preidcted values\n",
        "y_test_new = np.argmax(y_test,axis=1) #original values"
      ],
      "metadata": {
        "id": "DjgAp-YpgErm"
      },
      "execution_count": 15,
      "outputs": []
    },
    {
      "cell_type": "code",
      "source": [
        "print(classification_report(y_test_new,pred))"
      ],
      "metadata": {
        "colab": {
          "base_uri": "https://localhost:8080/"
        },
        "id": "7FByWpujSRAh",
        "outputId": "071563d2-ad69-4b83-9a4d-a942c3ae499b"
      },
      "execution_count": 16,
      "outputs": [
        {
          "output_type": "stream",
          "name": "stdout",
          "text": [
            "              precision    recall  f1-score   support\n",
            "\n",
            "           0       0.90      0.80      0.85        95\n",
            "           1       0.73      0.85      0.78        47\n",
            "           2       0.79      0.76      0.78        96\n",
            "           3       0.90      0.97      0.93        89\n",
            "\n",
            "    accuracy                           0.84       327\n",
            "   macro avg       0.83      0.84      0.83       327\n",
            "weighted avg       0.84      0.84      0.84       327\n",
            "\n"
          ]
        }
      ]
    },
    {
      "cell_type": "code",
      "source": [
        "fig,ax=plt.subplots(1,1,figsize=(14,7))\n",
        "sns.heatmap(confusion_matrix(y_test_new,pred),ax=ax,xticklabels=labels,yticklabels=labels,annot=True)\n",
        "           #cmap=colors_green[::-1],alpha=0.7,linewidths=2,linecolor=colors_dark[3])\n",
        "fig.text(s='Heatmap of the Confusion Matrix',size=18,fontweight='bold',\n",
        "             fontname='monospace',color=colors_dark[1],y=0.92,x=0.28,alpha=0.8)\n",
        "\n",
        "plt.show()"
      ],
      "metadata": {
        "colab": {
          "base_uri": "https://localhost:8080/",
          "height": 657
        },
        "id": "g7bWQjLmSTXy",
        "outputId": "ed34905b-45bd-4c64-bba0-d1b44155d652"
      },
      "execution_count": 19,
      "outputs": [
        {
          "output_type": "error",
          "ename": "NameError",
          "evalue": "ignored",
          "traceback": [
            "\u001b[0;31m---------------------------------------------------------------------------\u001b[0m",
            "\u001b[0;31mNameError\u001b[0m                                 Traceback (most recent call last)",
            "\u001b[0;32m<ipython-input-19-88311187486a>\u001b[0m in \u001b[0;36m<module>\u001b[0;34m()\u001b[0m\n\u001b[1;32m      3\u001b[0m            \u001b[0;31m#cmap=colors_green[::-1],alpha=0.7,linewidths=2,linecolor=colors_dark[3])\u001b[0m\u001b[0;34m\u001b[0m\u001b[0;34m\u001b[0m\u001b[0;34m\u001b[0m\u001b[0m\n\u001b[1;32m      4\u001b[0m fig.text(s='Heatmap of the Confusion Matrix',size=18,fontweight='bold',\n\u001b[0;32m----> 5\u001b[0;31m              fontname='monospace',color=colors_dark[1],y=0.92,x=0.28,alpha=0.8)\n\u001b[0m\u001b[1;32m      6\u001b[0m \u001b[0;34m\u001b[0m\u001b[0m\n\u001b[1;32m      7\u001b[0m \u001b[0mplt\u001b[0m\u001b[0;34m.\u001b[0m\u001b[0mshow\u001b[0m\u001b[0;34m(\u001b[0m\u001b[0;34m)\u001b[0m\u001b[0;34m\u001b[0m\u001b[0;34m\u001b[0m\u001b[0m\n",
            "\u001b[0;31mNameError\u001b[0m: name 'colors_dark' is not defined"
          ]
        },
        {
          "output_type": "display_data",
          "data": {
            "image/png": "[encoded data removed]",
            "text/plain": [
              "<Figure size 1008x504 with 2 Axes>"
            ]
          },
          "metadata": {
            "needs_background": "light"
          }
        }
      ]
    },
    {
      "cell_type": "code",
      "source": [
        "import matplotlib.pyplot as plt\n",
        "import numpy as np\n",
        "import pandas as pd\n",
        "import seaborn as sns\n",
        "import cv2\n",
        "import tensorflow as tf\n",
        "from tensorflow.keras.preprocessing.image import ImageDataGenerator\n",
        "from tqdm import tqdm\n",
        "import os\n",
        "from sklearn.utils import shuffle\n",
        "from sklearn.model_selection import train_test_split\n",
        "#from tensorflow.keras.applications import EfficientNetB0\n",
        "from tensorflow.keras.callbacks import EarlyStopping, ReduceLROnPlateau, TensorBoard, ModelCheckpoint\n",
        "from sklearn.metrics import classification_report,confusion_matrix\n",
        "import ipywidgets as widgets\n",
        "import io\n",
        "from PIL import Image\n",
        "from IPython.display import display,clear_output"
      ],
      "metadata": {
        "id": "H27OOmvZSWJw"
      },
      "execution_count": 18,
      "outputs": []
    },
    {
      "cell_type": "code",
      "source": [
        "def img_pred(upload):\n",
        "    for name, file_info in uploader.value.items():\n",
        "        img = Image.open(io.BytesIO(file_info['content']))\n",
        "    opencvImage = cv2.cvtColor(np.array(img), cv2.COLOR_RGB2BGR)\n",
        "    img = cv2.resize(opencvImage,(150,150))\n",
        "    img = img.reshape(1,150,150,3)\n",
        "    p = model.predict(img)\n",
        "    p = np.argmax(p,axis=1)[0]\n",
        "\n",
        "    if p==0:\n",
        "        p='Glioma Tumor'\n",
        "    elif p==1:\n",
        "        print('The model predicts that there is no tumor')\n",
        "    elif p==2:\n",
        "        p='Meningioma Tumor'\n",
        "    else:\n",
        "        p='Pituitary Tumor'\n",
        "\n",
        "    if p!=1:\n",
        "        print(f'The Model predicts that it is a {p}')"
      ],
      "metadata": {
        "id": "UIKmnAMkS0FI"
      },
      "execution_count": 20,
      "outputs": []
    },
    {
      "cell_type": "code",
      "source": [
        "uploader = widgets.FileUpload()\n",
        "display(uploader)"
      ],
      "metadata": {
        "colab": {
          "base_uri": "https://localhost:8080/",
          "height": 48,
          "referenced_widgets": [
            "026cb19ca33b47aea6a16bf960ece323",
            "60238a8e9afb477b984bfac3089ff82d",
            "4179822c7026418d86d7326eb13209f5"
          ]
        },
        "id": "B6UzzrBaElqb",
        "outputId": "35ddeb88-de58-47c9-9a3f-bc34f35decc3"
      },
      "execution_count": 21,
      "outputs": [
        {
          "output_type": "display_data",
          "data": {
            "application/vnd.jupyter.widget-view+json": {
              "model_id": "026cb19ca33b47aea6a16bf960ece323",
              "version_minor": 0,
              "version_major": 2
            },
            "text/plain": [
              "FileUpload(value={}, description='Upload')"
            ]
          },
          "metadata": {}
        }
      ]
    },
    {
      "cell_type": "code",
      "source": [
        "button = widgets.Button(description='Predict')\n",
        "out = widgets.Output()\n",
        "def on_button_clicked(_):\n",
        "    with out:\n",
        "        clear_output()\n",
        "        try:\n",
        "            img_pred(uploader)\n",
        "            \n",
        "        except:\n",
        "            print('No Image Uploaded/Invalid Image File')\n",
        "button.on_click(on_button_clicked)\n",
        "widgets.VBox([button,out])"
      ],
      "metadata": {
        "colab": {
          "base_uri": "https://localhost:8080/",
          "height": 67,
          "referenced_widgets": [
            "3c2bbaec4f264ea683d1a95771649cdc",
            "10023ef5a74b4c5c8eb23fe75fbc8ba2",
            "8711b8d2ef9d4ebfad8188615042bc11",
            "10265bbdee8a4be29c1445667495cb92",
            "f03ad22de1dd43b4bd78d3d32fdd8318",
            "bafb4f7595474da8ab0914798393b451",
            "3517970fee27428c980259610394b7eb"
          ]
        },
        "id": "gt5ye7gOEn6y",
        "outputId": "06ef7f7c-6186-476a-f537-0e261899c954"
      },
      "execution_count": 22,
      "outputs": [
        {
          "output_type": "display_data",
          "data": {
            "application/vnd.jupyter.widget-view+json": {
              "model_id": "3c2bbaec4f264ea683d1a95771649cdc",
              "version_minor": 0,
              "version_major": 2
            },
            "text/plain": [
              "VBox(children=(Button(description='Predict', style=ButtonStyle()), Output()))"
            ]
          },
          "metadata": {}
        }
      ]
    },
    {
      "cell_type": "code",
      "source": [
        "import pickle"
      ],
      "metadata": {
        "id": "umZ6miqaEqSz"
      },
      "execution_count": 23,
      "outputs": []
    },
    {
      "cell_type": "code",
      "source": [
        "pickle.dump(model, open('vvgg16.sav', 'wb'))\n"
      ],
      "metadata": {
        "colab": {
          "base_uri": "https://localhost:8080/"
        },
        "id": "oLh8mzy5Fd7z",
        "outputId": "034d81cf-7003-4b53-fcbc-45b6052ed2e0"
      },
      "execution_count": 27,
      "outputs": [
        {
          "output_type": "stream",
          "name": "stdout",
          "text": [
            "INFO:tensorflow:Assets written to: ram://69f1fdf8-03d3-4236-b165-ef1b133d2030/assets\n"
          ]
        }
      ]
    },
    {
      "cell_type": "code",
      "source": [
        ""
      ],
      "metadata": {
        "id": "l8ea_UVKFfdp"
      },
      "execution_count": null,
      "outputs": []
    }
  ]
}